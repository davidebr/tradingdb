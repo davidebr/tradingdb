{
 "cells": [
  {
   "cell_type": "markdown",
   "metadata": {},
   "source": [
    "# Stock Screener\n",
    "- Filter everything that has recent data (i.e. some other may be delisted)\n",
    "- Filter according some criteria\n",
    "- Plot"
   ]
  },
  {
   "cell_type": "code",
   "execution_count": 1,
   "metadata": {},
   "outputs": [],
   "source": [
    "from matplotlib import pyplot as plt\n",
    "\n",
    "from tradingdb.utils import *\n",
    "from tradingdb.ORM.utils import *\n",
    "\n",
    "from   datetime import datetime, timedelta\n",
    "\n",
    "import copy"
   ]
  },
  {
   "cell_type": "code",
   "execution_count": 2,
   "metadata": {},
   "outputs": [],
   "source": [
    "DBNAME=os.path.abspath(\"../data/master.db\")\n",
    "#EXCHANGE=\"NASDAQ\"\n",
    "EXCHANGE=\"FTSE\"\n",
    "\n",
    "#MYPERIOD='1h'\n",
    "MYPERIOD='5m'"
   ]
  },
  {
   "cell_type": "code",
   "execution_count": 3,
   "metadata": {},
   "outputs": [],
   "source": [
    "session=get_new_session(DBNAME)\n"
   ]
  },
  {
   "cell_type": "code",
   "execution_count": 4,
   "metadata": {},
   "outputs": [
    {
     "name": "stdout",
     "output_type": "stream",
     "text": [
      "dict_items([('JD.L', {'1h': datetime.datetime(2023, 8, 1, 9, 0), '5m': datetime.datetime(2023, 8, 1, 9, 20), '1d': datetime.datetime(2023, 7, 28, 0, 0)}), ('CCH.L', {'1h': datetime.datetime(2023, 8, 1, 9, 0), '5m': datetime.datetime(2023, 8, 1, 9, 15), '1d': datetime.datetime(2023, 7, 31, 0, 0)}), ('FRES.L', {'1h': datetime.datetime(2023, 8, 1, 9, 0), '5m': datetime.datetime(2023, 8, 1, 9, 20), '1d': datetime.datetime(2023, 7, 28, 0, 0)}), ('SMT.L', {'1h': datetime.datetime(2023, 8, 1, 9, 0), '5m': datetime.datetime(2023, 8, 1, 9, 20), '1d': datetime.datetime(2023, 7, 28, 0, 0)}), ('NXT.L', {'1h': datetime.datetime(2023, 8, 1, 9, 0), '5m': datetime.datetime(2023, 8, 1, 9, 20), '1d': datetime.datetime(2023, 7, 28, 0, 0)}), ('RR.L', {'1h': datetime.datetime(2023, 8, 1, 9, 0), '5m': datetime.datetime(2023, 8, 1, 9, 20), '1d': datetime.datetime(2023, 7, 28, 0, 0)}), ('ADM.L', {'1h': datetime.datetime(2023, 8, 1, 9, 0), '5m': datetime.datetime(2023, 8, 1, 9, 15), '1d': datetime.datetime(2023, 7, 31, 0, 0)}), ('MRO.L', {'1h': datetime.datetime(2023, 8, 1, 9, 0), '5m': datetime.datetime(2023, 8, 1, 9, 20), '1d': datetime.datetime(2023, 7, 28, 0, 0)}), ('SN.L', {'1h': datetime.datetime(2023, 8, 1, 9, 0), '5m': datetime.datetime(2023, 8, 1, 9, 20), '1d': datetime.datetime(2023, 7, 28, 0, 0)}), ('III.L', {'1h': datetime.datetime(2023, 8, 1, 9, 0), '5m': datetime.datetime(2023, 8, 1, 9, 20), '1d': datetime.datetime(2023, 7, 28, 0, 0)}), ('BEZ.L', {'1h': datetime.datetime(2023, 8, 1, 9, 0), '5m': datetime.datetime(2023, 8, 1, 9, 10), '1d': datetime.datetime(2023, 7, 28, 0, 0)}), ('RKT.L', {'1h': datetime.datetime(2023, 8, 1, 9, 0), '5m': datetime.datetime(2023, 8, 1, 9, 20), '1d': datetime.datetime(2023, 7, 28, 0, 0)}), ('HLN.L', {'1h': datetime.datetime(2023, 8, 1, 9, 0), '5m': datetime.datetime(2023, 8, 1, 9, 15), '1d': datetime.datetime(2023, 7, 31, 0, 0)}), ('FCIT.L', {'1h': datetime.datetime(2023, 8, 1, 9, 0), '5m': datetime.datetime(2023, 8, 1, 9, 20), '1d': datetime.datetime(2023, 7, 28, 0, 0)}), ('CNA.L', {'1h': datetime.datetime(2023, 8, 1, 9, 0), '5m': datetime.datetime(2023, 8, 1, 9, 20), '1d': datetime.datetime(2023, 7, 28, 0, 0)}), ('PSH.L', {'1h': datetime.datetime(2023, 8, 1, 9, 0), '5m': datetime.datetime(2023, 8, 1, 9, 5), '1d': datetime.datetime(2023, 7, 28, 0, 0)}), ('INF.L', {'1h': datetime.datetime(2023, 8, 1, 9, 0), '5m': datetime.datetime(2023, 8, 1, 9, 20), '1d': datetime.datetime(2023, 7, 31, 0, 0)}), ('HSV.L', {'1h': datetime.datetime(2022, 12, 30, 12, 0), '1d': datetime.datetime(2022, 12, 30, 0, 0)}), ('TSCO.L', {'1h': datetime.datetime(2023, 8, 1, 9, 0), '5m': datetime.datetime(2023, 8, 1, 9, 20), '1d': datetime.datetime(2023, 7, 28, 0, 0)}), ('WPP.L', {'1h': datetime.datetime(2023, 8, 1, 9, 0), '5m': datetime.datetime(2023, 8, 1, 9, 20), '1d': datetime.datetime(2023, 7, 28, 0, 0)}), ('SMDS.L', {'1h': datetime.datetime(2023, 8, 1, 9, 0), '5m': datetime.datetime(2023, 8, 1, 9, 20), '1d': datetime.datetime(2023, 7, 28, 0, 0)}), ('CRH.L', {'1h': datetime.datetime(2023, 8, 1, 9, 0), '5m': datetime.datetime(2023, 8, 1, 9, 20), '1d': datetime.datetime(2023, 7, 31, 0, 0)}), ('AVV.L', {'1h': datetime.datetime(2022, 12, 30, 12, 0), '1d': datetime.datetime(2022, 12, 30, 0, 0)}), ('MNG.L', {'1h': datetime.datetime(2023, 8, 1, 9, 0), '5m': datetime.datetime(2023, 8, 1, 9, 20), '1d': datetime.datetime(2023, 7, 31, 0, 0)}), ('ABDN.L', {'1h': datetime.datetime(2023, 8, 1, 9, 0), '5m': datetime.datetime(2023, 8, 1, 9, 20), '1d': datetime.datetime(2023, 7, 28, 0, 0)}), ('IMB.L', {'1h': datetime.datetime(2023, 8, 1, 9, 0), '5m': datetime.datetime(2023, 8, 1, 9, 20), '1d': datetime.datetime(2023, 7, 28, 0, 0)}), ('BME.L', {'1h': datetime.datetime(2023, 8, 1, 9, 0), '5m': datetime.datetime(2023, 8, 1, 9, 15), '1d': datetime.datetime(2023, 7, 28, 0, 0)}), ('PSON.L', {'1h': datetime.datetime(2023, 8, 1, 9, 0), '5m': datetime.datetime(2023, 8, 1, 9, 15), '1d': datetime.datetime(2023, 7, 28, 0, 0)}), ('HL.L', {'1h': datetime.datetime(2023, 8, 1, 9, 0), '5m': datetime.datetime(2023, 8, 1, 9, 20), '1d': datetime.datetime(2023, 7, 28, 0, 0)}), ('ANTO.L', {'1h': datetime.datetime(2023, 8, 1, 9, 0), '5m': datetime.datetime(2023, 8, 1, 9, 20), '1d': datetime.datetime(2023, 7, 31, 0, 0)}), ('ULVR.L', {'1h': datetime.datetime(2023, 8, 1, 9, 0), '5m': datetime.datetime(2023, 8, 1, 9, 20), '1d': datetime.datetime(2023, 7, 28, 0, 0)}), ('GSK.L', {'1h': datetime.datetime(2023, 8, 1, 9, 0), '5m': datetime.datetime(2023, 8, 1, 9, 20), '1d': datetime.datetime(2023, 7, 28, 0, 0)}), ('DGE.L', {'1h': datetime.datetime(2023, 8, 1, 9, 0), '5m': datetime.datetime(2023, 8, 1, 9, 20), '1d': datetime.datetime(2023, 7, 28, 0, 0)}), ('IHG.L', {'1h': datetime.datetime(2023, 8, 1, 9, 0), '5m': datetime.datetime(2023, 8, 1, 9, 15), '1d': datetime.datetime(2023, 7, 28, 0, 0)}), ('BARC.L', {'1h': datetime.datetime(2023, 8, 1, 9, 0), '5m': datetime.datetime(2023, 8, 1, 9, 20), '1d': datetime.datetime(2023, 7, 28, 0, 0)}), ('AAL.L', {'1h': datetime.datetime(2023, 8, 1, 9, 0), '5m': datetime.datetime(2023, 8, 1, 9, 20), '1d': datetime.datetime(2023, 7, 28, 0, 0)}), ('PRU.L', {'1h': datetime.datetime(2023, 8, 1, 9, 0), '5m': datetime.datetime(2023, 8, 1, 9, 20), '1d': datetime.datetime(2023, 7, 28, 0, 0)}), ('HSBA.L', {'1h': datetime.datetime(2023, 8, 1, 9, 0), '5m': datetime.datetime(2023, 8, 1, 9, 20), '1d': datetime.datetime(2023, 7, 28, 0, 0)}), ('ENT.L', {'1h': datetime.datetime(2023, 8, 1, 9, 0), '5m': datetime.datetime(2023, 8, 1, 9, 15), '1d': datetime.datetime(2023, 7, 31, 0, 0)}), ('RIO.L', {'1h': datetime.datetime(2023, 8, 1, 9, 0), '5m': datetime.datetime(2023, 8, 1, 9, 20), '1d': datetime.datetime(2023, 7, 28, 0, 0)}), ('KGF.L', {'1h': datetime.datetime(2023, 8, 1, 9, 0), '5m': datetime.datetime(2023, 8, 1, 9, 20), '1d': datetime.datetime(2023, 7, 28, 0, 0)}), ('SBRY.L', {'1h': datetime.datetime(2023, 8, 1, 9, 0), '5m': datetime.datetime(2023, 8, 1, 9, 20), '1d': datetime.datetime(2023, 7, 28, 0, 0)}), ('ITRK.L', {'1h': datetime.datetime(2023, 8, 1, 9, 0), '5m': datetime.datetime(2023, 8, 1, 9, 15), '1d': datetime.datetime(2023, 7, 28, 0, 0)}), ('PHNX.L', {'1h': datetime.datetime(2023, 8, 1, 9, 0), '5m': datetime.datetime(2023, 8, 1, 9, 20), '1d': datetime.datetime(2023, 7, 28, 0, 0)}), ('UTG.L', {'1h': datetime.datetime(2023, 8, 1, 9, 0), '5m': datetime.datetime(2023, 8, 1, 9, 20), '1d': datetime.datetime(2023, 7, 31, 0, 0)}), ('BATS.L', {'1h': datetime.datetime(2023, 8, 1, 9, 0), '5m': datetime.datetime(2023, 8, 1, 9, 20), '1d': datetime.datetime(2023, 7, 28, 0, 0)}), ('BA.L', {'1h': datetime.datetime(2023, 8, 1, 9, 0), '5m': datetime.datetime(2023, 8, 1, 9, 20), '1d': datetime.datetime(2023, 7, 28, 0, 0)}), ('SGE.L', {'1h': datetime.datetime(2023, 8, 1, 9, 0), '5m': datetime.datetime(2023, 8, 1, 9, 15), '1d': datetime.datetime(2023, 7, 28, 0, 0)}), ('NG.L', {'1h': datetime.datetime(2023, 8, 1, 9, 0), '5m': datetime.datetime(2023, 8, 1, 9, 20), '1d': datetime.datetime(2023, 7, 28, 0, 0)}), ('CPG.L', {'1h': datetime.datetime(2023, 8, 1, 9, 0), '5m': datetime.datetime(2023, 8, 1, 9, 20), '1d': datetime.datetime(2023, 7, 28, 0, 0)}), ('BLND.L', {'1h': datetime.datetime(2023, 8, 1, 9, 0), '5m': datetime.datetime(2023, 8, 1, 9, 20), '1d': datetime.datetime(2023, 7, 28, 0, 0)}), ('SMIN.L', {'1h': datetime.datetime(2023, 8, 1, 9, 0), '5m': datetime.datetime(2023, 8, 1, 9, 10), '1d': datetime.datetime(2023, 7, 28, 0, 0)}), ('CTEC.L', {'1h': datetime.datetime(2023, 8, 1, 9, 0), '5m': datetime.datetime(2023, 8, 1, 9, 20), '1d': datetime.datetime(2023, 7, 28, 0, 0)}), ('SSE.L', {'1h': datetime.datetime(2023, 8, 1, 9, 0), '5m': datetime.datetime(2023, 8, 1, 9, 20), '1d': datetime.datetime(2023, 7, 28, 0, 0)}), ('AV.L', {'1h': datetime.datetime(2023, 8, 1, 9, 0), '5m': datetime.datetime(2023, 8, 1, 9, 20), '1d': datetime.datetime(2023, 7, 28, 0, 0)}), ('SKG.L', {'1h': datetime.datetime(2023, 8, 1, 9, 0), '5m': datetime.datetime(2023, 8, 1, 9, 20), '1d': datetime.datetime(2023, 7, 28, 0, 0)}), ('MNDI.L', {'1h': datetime.datetime(2023, 8, 1, 9, 0), '5m': datetime.datetime(2023, 8, 1, 9, 20), '1d': datetime.datetime(2023, 7, 31, 0, 0)}), ('EDV.L', {'1h': datetime.datetime(2023, 8, 1, 9, 0), '5m': datetime.datetime(2023, 8, 1, 9, 10), '1d': datetime.datetime(2023, 7, 28, 0, 0)}), ('SHEL.L', {'1h': datetime.datetime(2023, 8, 1, 9, 0), '5m': datetime.datetime(2023, 8, 1, 9, 20), '1d': datetime.datetime(2023, 7, 28, 0, 0)}), ('NWG.L', {'1h': datetime.datetime(2023, 8, 1, 9, 0), '5m': datetime.datetime(2023, 8, 1, 9, 20), '1d': datetime.datetime(2023, 7, 28, 0, 0)}), ('LAND.L', {'1h': datetime.datetime(2023, 8, 1, 9, 0), '5m': datetime.datetime(2023, 8, 1, 9, 20), '1d': datetime.datetime(2023, 7, 28, 0, 0)}), ('VOD.L', {'1h': datetime.datetime(2023, 8, 1, 9, 0), '5m': datetime.datetime(2023, 8, 1, 9, 20), '1d': datetime.datetime(2023, 7, 28, 0, 0)}), ('ABF.L', {'1h': datetime.datetime(2023, 8, 1, 9, 0), '5m': datetime.datetime(2023, 8, 1, 9, 20), '1d': datetime.datetime(2023, 7, 28, 0, 0)}), ('LSEG.L', {'1h': datetime.datetime(2023, 8, 1, 9, 0), '5m': datetime.datetime(2023, 8, 1, 9, 20), '1d': datetime.datetime(2023, 7, 28, 0, 0)}), ('GLEN.L', {'1h': datetime.datetime(2023, 8, 1, 9, 0), '5m': datetime.datetime(2023, 8, 1, 9, 20), '1d': datetime.datetime(2023, 7, 28, 0, 0)}), ('BRBY.L', {'1h': datetime.datetime(2023, 8, 1, 9, 0), '5m': datetime.datetime(2023, 8, 1, 9, 15), '1d': datetime.datetime(2023, 7, 28, 0, 0)}), ('FLTR.L', {'1h': datetime.datetime(2023, 8, 1, 9, 0), '5m': datetime.datetime(2023, 8, 1, 9, 20), '1d': datetime.datetime(2023, 7, 31, 0, 0)}), ('AZN.L', {'1h': datetime.datetime(2023, 8, 1, 9, 0), '5m': datetime.datetime(2023, 8, 1, 9, 20), '1d': datetime.datetime(2023, 7, 28, 0, 0)}), ('STAN.L', {'1h': datetime.datetime(2023, 8, 1, 9, 0), '5m': datetime.datetime(2023, 8, 1, 9, 20), '1d': datetime.datetime(2023, 7, 28, 0, 0)}), ('LGEN.L', {'1h': datetime.datetime(2023, 8, 1, 9, 0), '5m': datetime.datetime(2023, 8, 1, 9, 20), '1d': datetime.datetime(2023, 7, 28, 0, 0)}), ('BP.L', {'1h': datetime.datetime(2023, 8, 1, 9, 0), '5m': datetime.datetime(2023, 8, 1, 9, 20), '1d': datetime.datetime(2023, 7, 28, 0, 0)}), ('BNZL.L', {'1h': datetime.datetime(2023, 8, 1, 9, 0), '5m': datetime.datetime(2023, 8, 1, 9, 15), '1d': datetime.datetime(2023, 7, 28, 0, 0)}), ('REL.L', {'1h': datetime.datetime(2023, 8, 1, 9, 0), '5m': datetime.datetime(2023, 8, 1, 9, 20), '1d': datetime.datetime(2023, 7, 28, 0, 0)}), ('SGRO.L', {'1h': datetime.datetime(2023, 8, 1, 9, 0), '5m': datetime.datetime(2023, 8, 1, 9, 20), '1d': datetime.datetime(2023, 7, 28, 0, 0)}), ('SPX.L', {'1h': datetime.datetime(2023, 8, 1, 9, 0), '5m': datetime.datetime(2023, 8, 1, 9, 20), '1d': datetime.datetime(2023, 7, 28, 0, 0)}), ('WEIR.L', {'1h': datetime.datetime(2023, 8, 1, 9, 0), '5m': datetime.datetime(2023, 8, 1, 9, 20), '1d': datetime.datetime(2023, 7, 28, 0, 0)}), ('CRDA.L', {'1h': datetime.datetime(2023, 8, 1, 9, 0), '5m': datetime.datetime(2023, 8, 1, 9, 20), '1d': datetime.datetime(2023, 7, 31, 0, 0)}), ('STJ.L', {'1h': datetime.datetime(2023, 8, 1, 9, 0), '5m': datetime.datetime(2023, 8, 1, 9, 20), '1d': datetime.datetime(2023, 7, 28, 0, 0)}), ('WTB.L', {'1h': datetime.datetime(2023, 8, 1, 9, 0), '5m': datetime.datetime(2023, 8, 1, 9, 20), '1d': datetime.datetime(2023, 7, 28, 0, 0)}), ('FRAS.L', {'1h': datetime.datetime(2023, 8, 1, 9, 0), '5m': datetime.datetime(2023, 8, 1, 9, 15), '1d': datetime.datetime(2023, 7, 28, 0, 0)}), ('EXPN.L', {'1h': datetime.datetime(2023, 8, 1, 9, 0), '5m': datetime.datetime(2023, 8, 1, 9, 20), '1d': datetime.datetime(2023, 7, 28, 0, 0)}), ('UU.L', {'1h': datetime.datetime(2023, 8, 1, 9, 0), '5m': datetime.datetime(2023, 8, 1, 9, 20), '1d': datetime.datetime(2023, 7, 28, 0, 0)}), ('RS1.L', {'1h': datetime.datetime(2023, 8, 1, 9, 0), '5m': datetime.datetime(2023, 8, 1, 9, 20), '1d': datetime.datetime(2023, 7, 31, 0, 0)}), ('SVT.L', {'1h': datetime.datetime(2023, 8, 1, 9, 0), '5m': datetime.datetime(2023, 8, 1, 9, 20), '1d': datetime.datetime(2023, 7, 28, 0, 0)}), ('LLOY.L', {'1h': datetime.datetime(2023, 8, 1, 9, 0), '5m': datetime.datetime(2023, 8, 1, 9, 20), '1d': datetime.datetime(2023, 7, 28, 0, 0)}), ('BKG.L', {'1h': datetime.datetime(2023, 8, 1, 9, 0), '5m': datetime.datetime(2023, 8, 1, 9, 15), '1d': datetime.datetime(2023, 7, 28, 0, 0)}), ('IAG.L', {'1h': datetime.datetime(2023, 8, 1, 9, 0), '5m': datetime.datetime(2023, 8, 1, 9, 20), '1d': datetime.datetime(2023, 7, 28, 0, 0)}), ('AHT.L', {'1h': datetime.datetime(2023, 8, 1, 9, 0), '5m': datetime.datetime(2023, 8, 1, 9, 20), '1d': datetime.datetime(2023, 7, 28, 0, 0)}), ('AAF.L', {'1h': datetime.datetime(2023, 8, 1, 9, 0), '5m': datetime.datetime(2023, 8, 1, 9, 15), '1d': datetime.datetime(2023, 7, 28, 0, 0)}), ('RTO.L', {'1h': datetime.datetime(2023, 8, 1, 9, 0), '5m': datetime.datetime(2023, 8, 1, 9, 20), '1d': datetime.datetime(2023, 7, 28, 0, 0)}), ('DCC.L', {'1h': datetime.datetime(2023, 8, 1, 9, 0), '5m': datetime.datetime(2023, 8, 1, 9, 20), '1d': datetime.datetime(2023, 7, 31, 0, 0)}), ('TW.L', {'1h': datetime.datetime(2023, 8, 1, 9, 0), '5m': datetime.datetime(2023, 8, 1, 9, 20), '1d': datetime.datetime(2023, 7, 28, 0, 0)}), ('SDR.L', {'1h': datetime.datetime(2023, 8, 1, 9, 0), '5m': datetime.datetime(2023, 8, 1, 9, 20), '1d': datetime.datetime(2023, 7, 28, 0, 0)}), ('AUTO.L', {'1h': datetime.datetime(2023, 8, 1, 9, 0), '5m': datetime.datetime(2023, 8, 1, 9, 20), '1d': datetime.datetime(2023, 7, 31, 0, 0)}), ('HLMA.L', {'1h': datetime.datetime(2023, 8, 1, 9, 0), '5m': datetime.datetime(2023, 8, 1, 9, 15), '1d': datetime.datetime(2023, 7, 28, 0, 0)}), ('RMV.L', {'1h': datetime.datetime(2023, 8, 1, 9, 0), '5m': datetime.datetime(2023, 8, 1, 9, 20), '1d': datetime.datetime(2023, 7, 31, 0, 0)}), ('OCDO.L', {'1h': datetime.datetime(2023, 8, 1, 9, 0), '5m': datetime.datetime(2023, 8, 1, 9, 20), '1d': datetime.datetime(2023, 7, 28, 0, 0)}), ('PSN.L', {'1h': datetime.datetime(2023, 8, 1, 9, 0), '5m': datetime.datetime(2023, 8, 1, 9, 20), '1d': datetime.datetime(2023, 7, 28, 0, 0)}), ('BDEV.L', {'1h': datetime.datetime(2023, 8, 1, 9, 0), '5m': datetime.datetime(2023, 8, 1, 9, 20), '1d': datetime.datetime(2023, 7, 28, 0, 0)}), ('HSX.L', {'5m': datetime.datetime(2023, 8, 1, 9, 10), '1h': datetime.datetime(2023, 8, 1, 9, 0), '1d': datetime.datetime(2023, 7, 28, 0, 0)}), ('JMAT.L', {'5m': datetime.datetime(2023, 8, 1, 9, 15), '1h': datetime.datetime(2023, 8, 1, 9, 0), '1d': datetime.datetime(2023, 7, 28, 0, 0)}), ('IMI.L', {'5m': datetime.datetime(2023, 8, 1, 9, 15), '1h': datetime.datetime(2023, 8, 1, 9, 0), '1d': datetime.datetime(2023, 7, 28, 0, 0)})])\n"
     ]
    }
   ],
   "source": [
    "# find last date\n",
    "def get_last_price_for_period(stock):\n",
    "    period=[]\n",
    "    date=[]\n",
    "    for p in stock.prices:\n",
    "        date.append(p.date)\n",
    "        period.append(p.period.name)\n",
    "    periods=set(period)\n",
    "    #print(periods)\n",
    "    df=pd.DataFrame({'date':date,'period':period})\n",
    "    return {pp:df[df['period'] == pp]['date'].max().to_pydatetime() for pp in periods}\n",
    "\n",
    "stock_last_date={}\n",
    "with session.begin() as mysession:\n",
    "    q=mysession.query(stock.Stock).join(stock.Exchange).filter(stock.Exchange.name==EXCHANGE)\n",
    "    q=q.all()\n",
    "    for r in q:\n",
    "        stock_last_date[r.yf_symbol]=get_last_price_for_period(r)\n",
    "print(stock_last_date.items())"
   ]
  },
  {
   "cell_type": "code",
   "execution_count": 5,
   "metadata": {},
   "outputs": [
    {
     "name": "stdout",
     "output_type": "stream",
     "text": [
      "2023-08-01 09:20:00\n"
     ]
    }
   ],
   "source": [
    "# find last date for 1h\n",
    "\n",
    "\n",
    "maxdate=datetime(1900, 7, 28, 0, 0)\n",
    "for k,v in stock_last_date.items():\n",
    "     try:\n",
    "          if v[MYPERIOD]>maxdate: maxdate=v[MYPERIOD] \n",
    "     except:\n",
    "          continue # discontinued symbols\n",
    "print(maxdate)\n",
    "# find all the symbols that have this as maxdate\n",
    "yf_symbols=[]\n",
    "for k,v in stock_last_date.items():\n",
    "     try:\n",
    "      if v[MYPERIOD]==maxdate: yf_symbols.append(k)\n",
    "     except:\n",
    "         continue\n",
    "     "
   ]
  },
  {
   "cell_type": "code",
   "execution_count": 6,
   "metadata": {},
   "outputs": [
    {
     "name": "stdout",
     "output_type": "stream",
     "text": [
      "['JD.L', 'FRES.L', 'SMT.L', 'NXT.L', 'RR.L', 'MRO.L', 'SN.L', 'III.L', 'RKT.L', 'FCIT.L', 'CNA.L', 'INF.L', 'TSCO.L', 'WPP.L', 'SMDS.L', 'CRH.L', 'MNG.L', 'ABDN.L', 'IMB.L', 'HL.L', 'ANTO.L', 'ULVR.L', 'GSK.L', 'DGE.L', 'BARC.L', 'AAL.L', 'PRU.L', 'HSBA.L', 'RIO.L', 'KGF.L', 'SBRY.L', 'PHNX.L', 'UTG.L', 'BATS.L', 'BA.L', 'NG.L', 'CPG.L', 'BLND.L', 'CTEC.L', 'SSE.L', 'AV.L', 'SKG.L', 'MNDI.L', 'SHEL.L', 'NWG.L', 'LAND.L', 'VOD.L', 'ABF.L', 'LSEG.L', 'GLEN.L', 'FLTR.L', 'AZN.L', 'STAN.L', 'LGEN.L', 'BP.L', 'REL.L', 'SGRO.L', 'SPX.L', 'WEIR.L', 'CRDA.L', 'STJ.L', 'WTB.L', 'EXPN.L', 'UU.L', 'RS1.L', 'SVT.L', 'LLOY.L', 'IAG.L', 'AHT.L', 'RTO.L', 'DCC.L', 'TW.L', 'SDR.L', 'AUTO.L', 'RMV.L', 'OCDO.L', 'PSN.L', 'BDEV.L']\n"
     ]
    }
   ],
   "source": [
    "print(yf_symbols)"
   ]
  },
  {
   "cell_type": "code",
   "execution_count": 7,
   "metadata": {},
   "outputs": [],
   "source": [
    "## Now loop over the symbols and get the last N bars\n",
    "dfinal={}\n",
    "with session.begin() as mysession:\n",
    "    for yf_symbol in yf_symbols:\n",
    "        ohlcv={\n",
    "            'date':[],\n",
    "            'open':[],\n",
    "            'close':[],\n",
    "            'high':[],\n",
    "            'low':[],\n",
    "            'volume':[]\n",
    "        }\n",
    "        q=mysession.query(stock.Price)\n",
    "        q=q.join(stock.Stock)\n",
    "        q=q.join(stock.Period)\n",
    "        q=q.filter(stock.Period.name==MYPERIOD)\n",
    "        q=q.filter(stock.Stock.yf_symbol==yf_symbol)\n",
    "        q=q.order_by(stock.Price.date.desc())\n",
    "        q=q.limit(50)\n",
    "        q=q.all()\n",
    "        for r in q:\n",
    "            for k in ohlcv.keys():\n",
    "                ohlcv[k].append(getattr(r,k))\n",
    "        dfinal[yf_symbol]=pd.DataFrame.from_dict(ohlcv)\n",
    "\n",
    "        "
   ]
  },
  {
   "cell_type": "code",
   "execution_count": 8,
   "metadata": {},
   "outputs": [
    {
     "name": "stdout",
     "output_type": "stream",
     "text": [
      "MPLFinance Version : 0.12.9b7\n"
     ]
    }
   ],
   "source": [
    "# now loop and plot\n",
    "\n",
    "import mplfinance as fplt\n",
    "\n",
    "print(\"MPLFinance Version : {}\".format(fplt.__version__))\n"
   ]
  },
  {
   "cell_type": "code",
   "execution_count": 9,
   "metadata": {},
   "outputs": [],
   "source": [
    "import requests\n",
    "import yfinance\n",
    "\n",
    "import json\n",
    "\n",
    "with open(\"../alphavantage.json\", \"r\") as json_file:\n",
    "    data = json_file.read()\n",
    "\n",
    "# Step 3: Use 'json.loads()' to convert the JSON data into a Python dictionary\n",
    "ALPHAVANTAGE_KEY = json.loads(data)[\"ALPHAVANTAGE_KEY\"]\n",
    "\n",
    "def get_latest_news(symbol,av_key):\n",
    "\n",
    "    # API endpoint for Alpha Vantage's financial news\n",
    "    endpoint = \"https://www.alphavantage.co/query\"\n",
    "    api_key = av_key  # Get your API key from https://www.alphavantage.co/support/#api-key\n",
    "\n",
    "    # Parameters for the API request\n",
    "    params = {\n",
    "        \"function\": \"TIME_SERIES_INTRADAY\",\n",
    "        \"symbol\": symbol,\n",
    "        \"interval\": \"1d\",  # Use any appropriate interval for intraday data\n",
    "        \"apikey\": api_key\n",
    "    }\n",
    "\n",
    "    # Make the API request\n",
    "    response = requests.get(endpoint, params=params)\n",
    "    news_data = response.json()\n",
    "\n",
    "    # Extract the latest news (if available) from the API response\n",
    "    latest_news = news_data.get(\"News\", {})\n",
    "\n",
    "    return latest_news"
   ]
  },
  {
   "cell_type": "code",
   "execution_count": 51,
   "metadata": {},
   "outputs": [
    {
     "name": "stdout",
     "output_type": "stream",
     "text": [
      "JD.L  : SELL! the overall increase in the last N bars is above threshold  10\n",
      "Total Change:     -1.60  %\n",
      "Company Name  JD Sports Fashion plc\n"
     ]
    },
    {
     "name": "stderr",
     "output_type": "stream",
     "text": [
      "/var/folders/zp/kk47krpx4_97876w6039z3wh0000gn/T/ipykernel_740/2930293970.py:53: FutureWarning: Passing method to DatetimeIndex.get_loc is deprecated and will raise in a future version. Use index.get_indexer([item], method=...) instead.\n",
      "  ticklocations = [ df.index.get_loc(tick,method='backfill') for tick in ticks ]\n"
     ]
    },
    {
     "data": {
      "image/png": "[encoded data removed]",
      "text/plain": [
       "<Figure size 800x575 with 6 Axes>"
      ]
     },
     "metadata": {},
     "output_type": "display_data"
    }
   ],
   "source": [
    "def trendbar(row):\n",
    "    if row.name == 0:  # First row, no previous row available\n",
    "        return 0\n",
    "    else:\n",
    "        previous_r_close = df.iloc[row.name - 1]['close']\n",
    "        previous_r_open = df.iloc[row.name - 1]['open']\n",
    "        #print(previous_r_close)\n",
    "        if previous_r_close>previous_r_open: # positive previous bar\n",
    "            if previous_r_close<row['close'] and previous_r_open<row['open'] :\n",
    "                return 1\n",
    "        else: # negative previous bar\n",
    "            if previous_r_close>row['close'] and previous_r_open >row['open']: \n",
    "                return -1\n",
    "        return 0      \n",
    "    \n",
    "LAST_N=20\n",
    "POSITIVE_N=10\n",
    "CHANGET=0.01\n",
    "for k,v in dfinal.items():\n",
    "    df=copy.deepcopy(v)\n",
    "    df['Datetime'] = pd.to_datetime(df['date'])\n",
    "    df = df.set_index('Datetime')\n",
    "    #print(df)\n",
    "    df = df.sort_index(ascending=True)\n",
    "\n",
    "    df['Close_Percentage_Change'] = df['close'].pct_change()\n",
    "\n",
    "    last_N_bars_change = df['Close_Percentage_Change'].tail(LAST_N)\n",
    "    overall_change = last_N_bars_change.sum()\n",
    "\n",
    "    last_N_positive = df['Close_Percentage_Change'].tail(LAST_N).gt(0).sum()\n",
    "\n",
    "    last_N_negative = df['Close_Percentage_Change'].tail(LAST_N).lt(0).sum()\n",
    "\n",
    "    # reset index to go back and fwd\n",
    "    dfx=df.reset_index(drop=True, inplace=False)\n",
    "    # calculate new col\n",
    "    dfx['trendbar']=dfx.apply(trendbar,axis=1)\n",
    "    df['trendbar']=dfx['trendbar'].to_list()\n",
    "\n",
    "    if (overall_change >= CHANGET and last_N_positive >= POSITIVE_N ) or (overall_change <= -CHANGET  and last_N_negative>= POSITIVE_N):\n",
    "\n",
    "        if last_N_negative>= POSITIVE_N:\n",
    "            print(k,\" : SELL! the overall increase in the last N bars is above threshold \",last_N_negative)\n",
    "\n",
    "        elif last_N_positive >= POSITIVE_N:\n",
    "            print(k,\" : BUY! the overall increase in the last N bars is above threshold \",last_N_positive)\n",
    "\n",
    "        print(\"Total Change: \",\"%8.2f \"%(overall_change*100.),\"%\")\n",
    "        df=df[-LAST_N:]\n",
    "        ticks = pd.date_range(df.index.to_list()[0],df.index.to_list()[-1],freq='1H')\n",
    "\n",
    "        ticklocations = [ df.index.get_loc(tick,method='backfill') for tick in ticks ]\n",
    "        #ticklabels = [ tick.time().strftime('%H:%M') for tick in ticks ]\n",
    "        ticklabels = [ tick.time().strftime('%H') for tick in ticks ]\n",
    "\n",
    "        for kk in ['open','close','high','low']:\n",
    "            df[kk]=(df[kk]-df[kk][0])*100./df[kk][0]\n",
    "\n",
    "\n",
    "        # Create the additional plot using make_addplot()\n",
    "        add_plot = fplt.make_addplot(df['trendbar'], panel=2, color='orange', secondary_y=False)\n",
    "\n",
    "        fig,ax =fplt.plot(\n",
    "                    df,\n",
    "                    type='candle',\n",
    "                    title=k,\n",
    "                    #ylabel='Points',\n",
    "                    ylabel='%',\n",
    "                    volume=True,\n",
    "                    returnfig=True,\n",
    "                    addplot=add_plot\n",
    "                )\n",
    "\n",
    "\n",
    "        ax[0].xaxis.set_ticks(ticklocations)\n",
    "        ax[0].set_xticklabels(ticklabels)\n",
    "\n",
    "\n",
    "        with session.begin() as mysession:\n",
    "            q=mysession.query(stock.Stock.company)\n",
    "            q=q.filter(stock.Stock.yf_symbol==k)\n",
    "            q=q.one()\n",
    "            print(\"Company Name \",q[0])\n",
    "\n",
    "        fplt.show()\n",
    "\n",
    "\n",
    "        #print(get_latest_news(k,ALPHAVANTAGE_KEY))\n",
    "        break"
   ]
  },
  {
   "cell_type": "code",
   "execution_count": null,
   "metadata": {},
   "outputs": [],
   "source": []
  }
 ],
 "metadata": {
  "kernelspec": {
   "display_name": "Python 3",
   "language": "python",
   "name": "python3"
  },
  "language_info": {
   "codemirror_mode": {
    "name": "ipython",
    "version": 3
   },
   "file_extension": ".py",
   "mimetype": "text/x-python",
   "name": "python",
   "nbconvert_exporter": "python",
   "pygments_lexer": "ipython3",
   "version": "3.9.15"
  },
  "orig_nbformat": 4
 },
 "nbformat": 4,
 "nbformat_minor": 2
}
